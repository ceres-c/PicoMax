{
 "cells": [
  {
   "cell_type": "code",
   "execution_count": 140,
   "id": "992f8735-eb0e-4813-a3d6-79df4977f9c2",
   "metadata": {
    "editable": true,
    "slideshow": {
     "slide_type": ""
    },
    "tags": []
   },
   "outputs": [],
   "source": [
    "import pyvisa\n",
    "import struct\n",
    "import seaborn as sns\n",
    "import matplotlib.pyplot as plt\n",
    "import serial\n",
    "import time\n",
    "s = serial.Serial(port=\"/dev/ttyACM0\", baudrate=115200, timeout=1)\n"
   ]
  },
  {
   "cell_type": "code",
   "execution_count": 134,
   "id": "31c9b557-c13f-4a6d-a788-b1945e555f36",
   "metadata": {
    "editable": true,
    "slideshow": {
     "slide_type": ""
    },
    "tags": []
   },
   "outputs": [],
   "source": [
    "def reset_pic():\n",
    "    s.write(b\"r\" + struct.pack('<i', 0) + struct.pack('<i', 1))\n",
    "    print(s.read(4))"
   ]
  },
  {
   "cell_type": "code",
   "execution_count": 125,
   "id": "9e54977f-8a64-447b-b1b3-00357e5925f7",
   "metadata": {},
   "outputs": [],
   "source": [
    "def test_connection():\n",
    "    s.write(b\"P\")\n",
    "    print(s.read(4))"
   ]
  },
  {
   "cell_type": "code",
   "execution_count": 133,
   "id": "d5f20849-9dc7-4623-8310-c40e2048ff8f",
   "metadata": {
    "editable": true,
    "slideshow": {
     "slide_type": ""
    },
    "tags": []
   },
   "outputs": [
    {
     "name": "stdout",
     "output_type": "stream",
     "text": [
      "b'kk4\\x12'\n"
     ]
    }
   ],
   "source": [
    "reset_pic()"
   ]
  },
  {
   "cell_type": "code",
   "execution_count": 8,
   "id": "8029a08b-cbdd-4fcc-a66f-12da98782838",
   "metadata": {
    "editable": true,
    "slideshow": {
     "slide_type": ""
    },
    "tags": []
   },
   "outputs": [],
   "source": [
    "rm = pyvisa.ResourceManager()"
   ]
  },
  {
   "cell_type": "code",
   "execution_count": 10,
   "id": "dc2efd50-8997-48e6-93db-57084dd52407",
   "metadata": {},
   "outputs": [],
   "source": [
    "IP_ADDRESS = \"192.168.0.111\"\n",
    "instrument = rm.open_resource('TCPIP::' + IP_ADDRESS + '::INSTR')"
   ]
  },
  {
   "cell_type": "code",
   "execution_count": 19,
   "id": "481580be-a9dc-4a7b-9cdb-63f89922ba8b",
   "metadata": {},
   "outputs": [
    {
     "data": {
      "text/plain": [
       "21"
      ]
     },
     "execution_count": 19,
     "metadata": {},
     "output_type": "execute_result"
    }
   ],
   "source": [
    "instrument.write('ACQUIRE:TYPE NORMAL')  # Set acquisition type to normal mode\n"
   ]
  },
  {
   "cell_type": "code",
   "execution_count": 25,
   "id": "b1e4536e-83e8-4924-b4ca-c10fb1713065",
   "metadata": {},
   "outputs": [
    {
     "data": {
      "text/plain": [
       "'Siglent Technologies,SDS1204X-E,SDSMMFCD5R0232,8.1.6.1.37R6\\n'"
      ]
     },
     "execution_count": 25,
     "metadata": {},
     "output_type": "execute_result"
    }
   ],
   "source": [
    "instrument.query('*IDN?')"
   ]
  },
  {
   "cell_type": "code",
   "execution_count": 33,
   "id": "2997d21d-a65a-414f-b80c-eabc9bf18802",
   "metadata": {},
   "outputs": [
    {
     "data": {
      "text/plain": [
       "5"
      ]
     },
     "execution_count": 33,
     "metadata": {},
     "output_type": "execute_result"
    }
   ],
   "source": [
    "instrument.write('ARM')"
   ]
  },
  {
   "cell_type": "code",
   "execution_count": 58,
   "id": "4097e95f-6da9-45c0-b5e7-8b8776238972",
   "metadata": {},
   "outputs": [
    {
     "data": {
      "text/plain": [
       "'SARA 5.00E+08Sa/s\\n'"
      ]
     },
     "execution_count": 58,
     "metadata": {},
     "output_type": "execute_result"
    }
   ],
   "source": [
    "instrument.query('sara?')"
   ]
  },
  {
   "cell_type": "code",
   "execution_count": 151,
   "id": "1c8b30ca-c0ad-42a5-a6bb-41e3fe07a4d3",
   "metadata": {},
   "outputs": [],
   "source": [
    "def acquire_trace():\n",
    "    instrument.write('ARM')\n",
    "    time.sleep(1)\n",
    "    reset_pic()\n",
    "    time.sleep(1)\n",
    "    instrument.write('c4:wf? dat2')\n",
    "    ints = []\n",
    "    for qq in instrument.read_raw()[22:-2]:\n",
    "        ints.append(qq)\n",
    "    return ints"
   ]
  },
  {
   "cell_type": "code",
   "execution_count": 152,
   "id": "cefec54e-9b1d-434b-94c8-570f10070f58",
   "metadata": {},
   "outputs": [
    {
     "name": "stdout",
     "output_type": "stream",
     "text": [
      "b'kk4\\x12'\n",
      "b'kk4\\x12'\n",
      "b'kk4\\x12'\n",
      "b'kk4\\x12'\n",
      "b'kk4\\x12'\n",
      "b'kk4\\x12'\n",
      "b'kk4\\x12'\n",
      "b'kk4\\x12'\n",
      "b'kk4\\x12'\n",
      "b'kk4\\x12'\n",
      "b'kk4\\x12'\n",
      "b'kk4\\x12'\n",
      "b'kk4\\x12'\n",
      "b'kk4\\x12'\n",
      "b'kk4\\x12'\n",
      "b'kk4\\x12'\n",
      "b'kk4\\x12'\n",
      "b'kk4\\x12'\n",
      "b'kk4\\x12'\n",
      "b'kk4\\x12'\n"
     ]
    }
   ],
   "source": [
    "traces = []\n",
    "for i in range(20):\n",
    "    traces.append(acquire_trace())"
   ]
  },
  {
   "cell_type": "code",
   "execution_count": 153,
   "id": "7b57c996-4db8-41fa-bb4c-86e77645cc61",
   "metadata": {},
   "outputs": [
    {
     "data": {
      "image/png": "[encoded data removed]",
      "text/plain": [
       "<Figure size 640x480 with 1 Axes>"
      ]
     },
     "metadata": {},
     "output_type": "display_data"
    }
   ],
   "source": [
    "# Create a line plot\n",
    "for trace in traces:\n",
    "    sns.lineplot(trace)\n",
    "\n",
    "# Display the plot\n",
    "plt.show()"
   ]
  },
  {
   "cell_type": "code",
   "execution_count": null,
   "id": "eec0a854-bd59-4c44-8f09-7f4419655177",
   "metadata": {},
   "outputs": [],
   "source": []
  }
 ],
 "metadata": {
  "kernelspec": {
   "display_name": "Python 3 (ipykernel)",
   "language": "python",
   "name": "python3"
  },
  "language_info": {
   "codemirror_mode": {
    "name": "ipython",
    "version": 3
   },
   "file_extension": ".py",
   "mimetype": "text/x-python",
   "name": "python",
   "nbconvert_exporter": "python",
   "pygments_lexer": "ipython3",
   "version": "3.11.3"
  }
 },
 "nbformat": 4,
 "nbformat_minor": 5
}
